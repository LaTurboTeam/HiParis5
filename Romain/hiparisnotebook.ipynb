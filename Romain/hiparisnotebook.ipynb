{
 "cells": [
  {
   "cell_type": "code",
   "execution_count": 3,
   "metadata": {},
   "outputs": [],
   "source": [
    "import s3fs as fs\n",
    "import pandas as pd\n",
    "import os\n",
    "import copy as cp"
   ]
  },
  {
   "cell_type": "code",
   "execution_count": null,
   "metadata": {},
   "outputs": [],
   "source": [
    "test"
   ]
  },
  {
   "cell_type": "code",
   "execution_count": null,
   "metadata": {},
   "outputs": [
    {
     "name": "stderr",
     "output_type": "stream",
     "text": [
      "/tmp/ipykernel_27353/2284082439.py:12: DtypeWarning: Columns (108,110,111,115,117,118,122,124,125) have mixed types. Specify dtype option on import or set low_memory=False.\n",
      "  x_train = pd.read_csv(file_in, sep=\",\")\n"
     ]
    },
    {
     "name": "stdout",
     "output_type": "stream",
     "text": [
      "   row_index piezo_station_department_code      piezo_station_update_date  \\\n",
      "0          0                            01  Sun Jul 14 13:00:02 CEST 2024   \n",
      "1          1                            01  Sun Jul 14 13:00:02 CEST 2024   \n",
      "2          2                            01  Sun Jul 14 13:00:02 CEST 2024   \n",
      "3          3                            01  Sun Jul 14 13:00:02 CEST 2024   \n",
      "4          4                            01  Sun Jul 14 13:00:02 CEST 2024   \n",
      "\n",
      "   piezo_station_investigation_depth piezo_station_department_name  \\\n",
      "0                              20.00                           Ain   \n",
      "1                              35.60                           Ain   \n",
      "2                              35.22                           Ain   \n",
      "3                              34.20                           Ain   \n",
      "4                              37.30                           Ain   \n",
      "\n",
      "  piezo_station_commune_code_insee  \\\n",
      "0                            01073   \n",
      "1                            01363   \n",
      "2                            01244   \n",
      "3                            01288   \n",
      "4                            01422   \n",
      "\n",
      "                              piezo_station_pe_label  \\\n",
      "0  PIEZOMETRE - MARAIS DE LAVOURS (CEYZERIEU - BR...   \n",
      "1  PIEZOMETRE - GRAVIERE (ST-JEAN-LE-VIEUX - BRGM...   \n",
      "2  PIEZOMETRE - BORD AUTOROUTE (MEXIMIEUX - BRGM ...   \n",
      "3         PIEZOMETRE - GRENY (PERON - BRGM 01) - BSH   \n",
      "4          FORAGE - ENCLOS (TOSSIAT - BRGM 01) - BSH   \n",
      "\n",
      "  piezo_station_bdlisa_codes  piezo_station_altitude piezo_station_bss_code  \\\n",
      "0                ['712AH37']                  232.00       07004X0046/D6-20   \n",
      "1                ['712GB05']                  247.25          06754X0077/F1   \n",
      "2                ['040AJ43']                  218.77      06993X0226/MEXI_2   \n",
      "3     ['516AA00', '516AF00']                  499.85          06533X0070/F2   \n",
      "4                ['507AB00']                  260.00          06518X0026/P2   \n",
      "\n",
      "   ... prelev_longitude_2  prelev_latitude_2  prelev_commune_code_insee_2  \\\n",
      "0  ...           5.698947          45.725106                       1454.0   \n",
      "1  ...           5.464933          46.210734                       1051.0   \n",
      "2  ...           5.085060          45.812828                      69266.0   \n",
      "3  ...           5.802841          46.366049                      39286.0   \n",
      "4  ...           5.377265          46.080989                       1273.0   \n",
      "\n",
      "  prelev_other_volume_sum insee_%_agri insee_pop_commune  \\\n",
      "0            1.793055e+09         11.8             992.0   \n",
      "1            1.085125e+09          0.6            1786.0   \n",
      "2            3.810492e+08            0            8085.0   \n",
      "3            3.800911e+08          1.5            2838.0   \n",
      "4            1.966631e+07          0.2            1352.0   \n",
      "\n",
      "  insee_med_living_level insee_%_ind insee_%_const  \\\n",
      "0                  25250         2.9          16.2   \n",
      "1                  24660        44.5            11   \n",
      "2                  24890         8.4           7.8   \n",
      "3                  39700         2.4           5.2   \n",
      "4                  26180        21.5           9.8   \n",
      "\n",
      "   piezo_groundwater_level_category  \n",
      "0                              High  \n",
      "1                         Very High  \n",
      "2                              High  \n",
      "3                         Very High  \n",
      "4                          Very Low  \n",
      "\n",
      "[5 rows x 136 columns]\n"
     ]
    }
   ],
   "source": [
    "# Configurer l'URL du point de terminaison S3\n",
    "S3_ENDPOINT_URL = \"https://\" + os.environ[\"AWS_S3_ENDPOINT\"]\n",
    "fs = s3fs.S3FileSystem(client_kwargs={'endpoint_url': S3_ENDPOINT_URL})\n",
    "\n",
    "# Chemin S3\n",
    "BUCKET = \"romainalmeida\"\n",
    "FILE_KEY_S3 = \"X_train_Hi5.csv\"\n",
    "FILE_PATH_S3 = f\"s3://{BUCKET}/{FILE_KEY_S3}\"\n",
    "\n",
    "# Lecture du fichier sur S3\n",
    "with fs.open(FILE_PATH_S3, mode=\"rb\") as file_in:\n",
    "    x_train = pd.read_csv(file_in, sep=\",\")\n",
    "    print(x_train.head())\n",
    "\n",
    "df= x_train.copy()"
   ]
  },
  {
   "cell_type": "code",
   "execution_count": null,
   "metadata": {},
   "outputs": [
    {
     "name": "stdout",
     "output_type": "stream",
     "text": [
      "Index(['row_index', 'piezo_station_department_code',\n",
      "       'piezo_station_update_date', 'piezo_station_investigation_depth',\n",
      "       'piezo_station_department_name', 'piezo_station_commune_code_insee',\n",
      "       'piezo_station_pe_label', 'piezo_station_bdlisa_codes',\n",
      "       'piezo_station_altitude', 'piezo_station_bss_code',\n",
      "       'piezo_station_commune_name', 'piezo_station_longitude',\n",
      "       'piezo_station_latitude', 'piezo_station_bss_id', 'piezo_bss_code',\n",
      "       'piezo_measurement_date', 'piezo_obtention_mode', 'piezo_status',\n",
      "       'piezo_qualification', 'piezo_continuity_code', 'piezo_continuity_name',\n",
      "       'piezo_producer_code', 'piezo_producer_name',\n",
      "       'piezo_measure_nature_code', 'piezo_measure_nature_name', 'meteo_id',\n",
      "       'meteo_name', 'meteo_latitude', 'meteo_longitude', 'meteo_altitude',\n",
      "       'meteo_date', 'meteo_rain_height', 'meteo_temperature_min',\n",
      "       'meteo_time_tn', 'meteo_temperature_max', 'meteo_time_tx',\n",
      "       'meteo_temperature_avg', 'meteo_temperature_avg_threshold',\n",
      "       'meteo_frost_duration', 'meteo_amplitude_tn_tx',\n",
      "       'meteo_temperature_avg_tntm', 'meteo_evapotranspiration_grid',\n",
      "       'distance_piezo_meteo', 'hydro_station_code',\n",
      "       'hydro_observation_date_elab', 'hydro_observation_result_elab',\n",
      "       'hydro_status_code', 'hydro_status_label', 'hydro_method_code',\n",
      "       'hydro_method_label', 'hydro_qualification_code',\n",
      "       'hydro_qualification_label', 'hydro_longitude', 'hydro_latitude',\n",
      "       'hydro_hydro_quantity_elab', 'distance_piezo_hydro',\n",
      "       'prelev_other_volume_sum', 'insee_%_agri', 'insee_pop_commune',\n",
      "       'insee_med_living_level', 'insee_%_ind', 'insee_%_const',\n",
      "       'piezo_groundwater_level_category'],\n",
      "      dtype='object')\n"
     ]
    }
   ],
   "source": [
    "df= x_train.copy()\n",
    "for proportion_nan_prct in [19]:\n",
    "    new_df = cp.deepcopy(df)\n",
    "    for col in new_df.columns:\n",
    "        if new_df[col].isnull().sum() * 100 / len(df) > proportion_nan_prct:\n",
    "            new_df.drop(col, axis=1, inplace=True)\n",
    "\n",
    "new_df.head()\n",
    "print(new_df.columns)\n"
   ]
  }
 ],
 "metadata": {
  "kernelspec": {
   "display_name": "base",
   "language": "python",
   "name": "python3"
  },
  "language_info": {
   "codemirror_mode": {
    "name": "ipython",
    "version": 3
   },
   "file_extension": ".py",
   "mimetype": "text/x-python",
   "name": "python",
   "nbconvert_exporter": "python",
   "pygments_lexer": "ipython3",
   "version": "3.12.6"
  }
 },
 "nbformat": 4,
 "nbformat_minor": 2
}
