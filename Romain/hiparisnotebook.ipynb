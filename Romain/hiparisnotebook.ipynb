{
 "cells": [
  {
   "cell_type": "code",
   "execution_count": 6,
   "metadata": {},
   "outputs": [],
   "source": [
    "import s3fs \n",
    "import pandas as pd\n",
    "import os\n",
    "import copy as cp"
   ]
  },
  {
   "cell_type": "code",
   "execution_count": 7,
   "metadata": {},
   "outputs": [
    {
     "name": "stderr",
     "output_type": "stream",
     "text": [
      "/tmp/ipykernel_8962/2336280599.py:12: DtypeWarning: Columns (108,110,111,115,117,118,122,124,125) have mixed types. Specify dtype option on import or set low_memory=False.\n",
      "  x_train = pd.read_csv(file_in, sep=\",\")\n"
     ]
    },
    {
     "name": "stdout",
     "output_type": "stream",
     "text": [
      "   row_index piezo_station_department_code      piezo_station_update_date  \\\n",
      "0          0                            01  Sun Jul 14 13:00:02 CEST 2024   \n",
      "1          1                            01  Sun Jul 14 13:00:02 CEST 2024   \n",
      "2          2                            01  Sun Jul 14 13:00:02 CEST 2024   \n",
      "3          3                            01  Sun Jul 14 13:00:02 CEST 2024   \n",
      "4          4                            01  Sun Jul 14 13:00:02 CEST 2024   \n",
      "\n",
      "   piezo_station_investigation_depth piezo_station_department_name  \\\n",
      "0                              20.00                           Ain   \n",
      "1                              35.60                           Ain   \n",
      "2                              35.22                           Ain   \n",
      "3                              34.20                           Ain   \n",
      "4                              37.30                           Ain   \n",
      "\n",
      "  piezo_station_commune_code_insee  \\\n",
      "0                            01073   \n",
      "1                            01363   \n",
      "2                            01244   \n",
      "3                            01288   \n",
      "4                            01422   \n",
      "\n",
      "                              piezo_station_pe_label  \\\n",
      "0  PIEZOMETRE - MARAIS DE LAVOURS (CEYZERIEU - BR...   \n",
      "1  PIEZOMETRE - GRAVIERE (ST-JEAN-LE-VIEUX - BRGM...   \n",
      "2  PIEZOMETRE - BORD AUTOROUTE (MEXIMIEUX - BRGM ...   \n",
      "3         PIEZOMETRE - GRENY (PERON - BRGM 01) - BSH   \n",
      "4          FORAGE - ENCLOS (TOSSIAT - BRGM 01) - BSH   \n",
      "\n",
      "  piezo_station_bdlisa_codes  piezo_station_altitude piezo_station_bss_code  \\\n",
      "0                ['712AH37']                  232.00       07004X0046/D6-20   \n",
      "1                ['712GB05']                  247.25          06754X0077/F1   \n",
      "2                ['040AJ43']                  218.77      06993X0226/MEXI_2   \n",
      "3     ['516AA00', '516AF00']                  499.85          06533X0070/F2   \n",
      "4                ['507AB00']                  260.00          06518X0026/P2   \n",
      "\n",
      "   ... prelev_longitude_2  prelev_latitude_2  prelev_commune_code_insee_2  \\\n",
      "0  ...           5.698947          45.725106                       1454.0   \n",
      "1  ...           5.464933          46.210734                       1051.0   \n",
      "2  ...           5.085060          45.812828                      69266.0   \n",
      "3  ...           5.802841          46.366049                      39286.0   \n",
      "4  ...           5.377265          46.080989                       1273.0   \n",
      "\n",
      "  prelev_other_volume_sum insee_%_agri insee_pop_commune  \\\n",
      "0            1.793055e+09         11.8             992.0   \n",
      "1            1.085125e+09          0.6            1786.0   \n",
      "2            3.810492e+08            0            8085.0   \n",
      "3            3.800911e+08          1.5            2838.0   \n",
      "4            1.966631e+07          0.2            1352.0   \n",
      "\n",
      "  insee_med_living_level insee_%_ind insee_%_const  \\\n",
      "0                  25250         2.9          16.2   \n",
      "1                  24660        44.5            11   \n",
      "2                  24890         8.4           7.8   \n",
      "3                  39700         2.4           5.2   \n",
      "4                  26180        21.5           9.8   \n",
      "\n",
      "   piezo_groundwater_level_category  \n",
      "0                              High  \n",
      "1                         Very High  \n",
      "2                              High  \n",
      "3                         Very High  \n",
      "4                          Very Low  \n",
      "\n",
      "[5 rows x 136 columns]\n"
     ]
    }
   ],
   "source": [
    "# Configurer l'URL du point de terminaison S3\n",
    "S3_ENDPOINT_URL = \"https://\" + os.environ[\"AWS_S3_ENDPOINT\"]\n",
    "fs = s3fs.S3FileSystem(client_kwargs={'endpoint_url': S3_ENDPOINT_URL})\n",
    "\n",
    "# Chemin S3\n",
    "BUCKET = \"romainalmeida\"\n",
    "FILE_KEY_S3 = \"X_train_Hi5.csv\"\n",
    "FILE_PATH_S3 = f\"s3://{BUCKET}/{FILE_KEY_S3}\"\n",
    "\n",
    "# Lecture du fichier sur S3\n",
    "with fs.open(FILE_PATH_S3, mode=\"rb\") as file_in:\n",
    "    x_train = pd.read_csv(file_in, sep=\",\")\n",
    "    print(x_train.head())\n",
    "\n",
    "df= x_train.copy()"
   ]
  },
  {
   "cell_type": "code",
   "execution_count": 8,
   "metadata": {},
   "outputs": [],
   "source": [
    "df= x_train.copy()\n",
    "for proportion_nan_prct in [19]:\n",
    "    new_df = cp.deepcopy(df)\n",
    "    for col in new_df.columns:\n",
    "        if new_df[col].isnull().sum() * 100 / len(df) > proportion_nan_prct:\n",
    "            new_df.drop(col, axis=1, inplace=True)\n",
    "\n",
    "#new_df.head()\n",
    "#print(new_df.columns)\n"
   ]
  },
  {
   "cell_type": "code",
   "execution_count": 10,
   "metadata": {},
   "outputs": [],
   "source": [
    "df_sample_1= new_df.sample(n=100, random_state=42)"
   ]
  },
  {
   "cell_type": "code",
   "execution_count": 11,
   "metadata": {},
   "outputs": [
    {
     "name": "stdout",
     "output_type": "stream",
     "text": [
      "100\n"
     ]
    }
   ],
   "source": [
    "df_sample_2=df_sample_1[['piezo_station_commune_name','piezo_station_longitude','piezo_station_latitude']]\n",
    "print(len(df_sample_2))\n"
   ]
  },
  {
   "cell_type": "code",
   "execution_count": 12,
   "metadata": {},
   "outputs": [
    {
     "name": "stdout",
     "output_type": "stream",
     "text": [
      "[('Soussans', -0.671397565315098, 45.0659359112406), ('Mazé-Milon', -0.244277, 47.499944), ('Marcilly-sur-Eure', 1.34229765489479, 48.8237195533546), ('Campbon', -1.96203013425617, 47.4446725372137), ('Noyen-sur-Seine', 3.34035762456233, 48.4568403762621), ('Genas', 5.0369990741031, 45.7487762233736), ('Médis', -0.960312525396026, 45.6365420989528), ('Saint-Étienne-sur-Suippe', 4.09613, 49.386809), ('Ychoux', -0.931494266426598, 44.3446905042655), ('Minzac', 0.0246386311250385, 44.9598971020619), ('Saint-Avit', -0.483087311628174, 43.9668162534418), ('Doué-en-Anjou', -0.230493797821785, 47.1876988121887), ('Habsheim', 7.41472735587161, 47.6355275525727), ('Altorf', 7.52226095898561, 48.5287995862801), ('La Planche', -1.425695, 47.017806), ('Hirtzfelden', 7.44738964424535, 47.9122139664644), ('Saint-Vit', 5.81620763314961, 47.1748076078666), ('Biganos', -0.937807475422826, 44.6572289977718), ('Bize-Minervois', 2.8640434642497, 43.2990994080866), ('Schweighouse-sur-Moder', 7.7504994027235, 48.8119437783103), ('Terrats', 2.75338678989448, 42.6084835770717), ('Savigny-en-Septaine', 2.560595117228268, 47.04411284465586), ('Ham-sur-Meuse', 4.7807792940526666, 50.11117477762186), ('Nogent-le-Sec', 1.0263439179873, 48.9200726874422), ('Gannay-sur-Loire', 3.623314, 46.718143), ('Maisons', -0.766138691843459, 49.3115890074088), ('Nançay', 2.194506204030134, 47.35001449296583), ('Plouvorn', -4.0500830261277, 48.5360882046246), ('Saint-André', 0.838461485690019, 43.2889253098271), ('Strasbourg', 7.76708780847743, 48.5224821178017), ('Belan-sur-Ource', 4.65562570954611, 47.9640936718594), ('Lisle', 0.577579510603551, 45.2863985222222), ('Hancourt', 3.07279822338651, 49.9035922409316), ('Maucomble', 1.32235379907404, 49.6879666279553), ('Liancourt-Fosse', 2.81437233411574, 49.7576948839146), ('Esquéhéries', 3.77409038966949, 49.9951273330588), ('Naujac-sur-Mer', -1.025003674696369, 45.25437451780438), ('Camaret-sur-Aigues', 4.873820264038871, 44.16343770456031), ('Varès', 0.388092262360755, 44.4438411719637), ('Audrehem', 1.99169089399643, 50.781204499076), ('Le Coudray-Macouard', -0.1194943564722017, 47.19478176328268), ('Allons', -0.0662419010579081, 44.183420605897), ('Saint-Louis', 7.54896047040337, 47.619407785206), ('Néfiach', 2.66412451829725, 42.6976857341284), ('Sainte-Colombe-de-la-Commanderie', 2.731792, 42.619667), ('Mimizan', -1.20976544228831, 44.1879717639822), ('Saumur', -0.078066719142583, 47.25905342225344), ('Saint-Rémy', 5.18713262971692, 46.1909541655103), ('Séris', 1.5019877035378155, 47.75687876652664), ('Éole-en-Beauce', 1.702411468394293, 48.21656022927522), ('Le Temple', -0.996489304100834, 44.8778111538911), ('Crucey-Villages', 1.077629420910297, 48.66702238645787), ('Mareuil en Périgord', 0.4522905088330343, 45.45066435529486), ('Petit-Landau', 7.47498427692184, 47.7283417620839), ('Vauvert', 4.25677514491211, 43.6976933372078), ('Boulazac Isle Manoire', 0.771579319962335, 45.1812232474053), ('Balaruc-le-Vieux', 3.6923373366193, 43.4716031128406), ('Essert-Romand', 6.671209420936108, 46.20161299362999), ('Lugny-Champagne', 2.79194734497589, 47.1689344472561), ('Ferrassières', 5.478262247313169, 44.13547597210106), ('Couzeix', 1.22040591974074, 45.8956218699111), ('Barret-de-Lioure', 5.493700257406711, 44.18600695496932), ('Vernéville', 6.01291098691263, 49.1441459153808), ('Saint-Savin', -0.440967380389983, 45.1224446021688), ('Anneville-en-Saire', -1.28636885600434, 49.6358855962514), ('Coulombiers', 0.1641412459271, 46.5063468866812), ('Megève', 6.617501177714109, 45.85700452418482), ('Sainte-Tulle', 5.77394373079533, 43.7742413172049), ('Réaup-Lisse', 0.24026375991569, 44.0562518209513), ('Paussac-et-Saint-Vivien', 0.549123208702139, 45.3512318454244), ('Coutras', -0.129064120828955, 45.0507127582805), ('Villeloup', 3.87387792245007, 48.3587575801477), ('Grattepanche', 2.29477282222971, 49.7880255344402), ('Istres', 4.92393799081625, 43.6092532400802), ('Poussan', 3.6840839253306, 43.4728720735512), ('Fuveau', 5.55093940378963, 43.4712529303627), ('Laloubère', 0.07620102828422, 43.2068133415589), ('Vire-sur-Lot', 1.0868583478815652, 44.49080819241957), ('Marœuil', 2.71751607123473, 50.3310097077981), ('Balaruc-les-Bains', 3.6847071472839, 43.4452613669475), ('Saint-Louis', 7.54896047040337, 47.619407785206), ('Juicq', -0.5608050941795361, 45.84351401052828), ('Genas', 5.0369990741031, 45.7487762233736), ('Haguenau', 7.858138, 48.832912), ('Bonnes', 0.597265843404721, 46.6001739929187), ('Vauvert', 4.25677514491211, 43.6976933372078), ('Flaujac-Poujols', 1.4995157790156428, 44.405761343934), ('Mussidan', 0.372231617243005, 45.0291349620676), ('Les Salces', 3.17807421441685, 44.5509879691003), ('Salignac-sur-Charente', -0.439482755277531, 45.6692100083782), ('La Neuville-aux-Bois', 4.91918170435788, 48.978221951291), ('Savigny-le-Temple', 2.55589040661805, 48.5992054963336), ('Bourbonne-les-Bains', 5.75976630461011, 47.9498188544855), ('Coulans-sur-Gée', 0.0196079866705655, 47.996406482371), ('Veyras', 4.561214886841447, 44.73383845677088), ('Gapennes', 1.94693868258507, 50.185332020375), ('Roinvilliers', 2.240990209800894, 48.35634635876715), ('Saugues', 3.54752798562626, 44.9631751237464), ('Savigny-sur-Braye', 0.8090714233176051, 47.87948608553169), ('Montfrin', 4.5928163571028, 43.8879245892216)]\n"
     ]
    }
   ],
   "source": [
    "cities_with_coordinates = list(df_sample_2.itertuples(index=False, name=None))\n",
    "print(cities_with_coordinates)"
   ]
  }
 ],
 "metadata": {
  "kernelspec": {
   "display_name": "base",
   "language": "python",
   "name": "python3"
  },
  "language_info": {
   "codemirror_mode": {
    "name": "ipython",
    "version": 3
   },
   "file_extension": ".py",
   "mimetype": "text/x-python",
   "name": "python",
   "nbconvert_exporter": "python",
   "pygments_lexer": "ipython3",
   "version": "3.12.6"
  }
 },
 "nbformat": 4,
 "nbformat_minor": 2
}
