{
 "cells": [
  {
   "cell_type": "code",
   "execution_count": null,
   "metadata": {},
   "outputs": [],
   "source": [
    "import os\n",
    "import s3fs\n",
    "import pandas as pd\n",
    "import matplotlib.pyplot as plt\n",
    "import seaborn as sns\n",
    "from sklearn.ensemble import RandomForestClassifier\n",
    "from sklearn.preprocessing import LabelEncoder\n"
   ]
  },
  {
   "cell_type": "code",
   "execution_count": null,
   "metadata": {},
   "outputs": [],
   "source": [
    "S3_ENDPOINT_URL = \"https://\" + os.environ[\"AWS_S3_ENDPOINT\"]\n",
    "fs = s3fs.S3FileSystem(client_kwargs={'endpoint_url': S3_ENDPOINT_URL})\n",
    "BUCKET = \"ebahri-ensae\"\n",
    "FILE_KEY_S3 = \"X_train_Hi5.csv\"\n",
    "FILE_PATH_S3 = BUCKET + \"/\" + FILE_KEY_S3\n",
    "\n",
    "with fs.open(FILE_PATH_S3, mode=\"rb\") as file_in:\n",
    "    x_train = pd.read_csv(file_in, sep=\",\")"
   ]
  },
  {
   "cell_type": "code",
   "execution_count": null,
   "metadata": {},
   "outputs": [],
   "source": [
    "x_train.head()"
   ]
  },
  {
   "cell_type": "code",
   "execution_count": null,
   "metadata": {},
   "outputs": [],
   "source": [
    "x_train['piezo_station_update_date'] = pd.to_datetime(x_train['piezo_station_update_date'], errors='coerce')\n",
    "print(x_train['piezo_station_update_date'].head())  # Display the first few rows to confirm the conversion"
   ]
  },
  {
   "cell_type": "code",
   "execution_count": null,
   "metadata": {},
   "outputs": [],
   "source": [
    "x_train.info()\n"
   ]
  },
  {
   "cell_type": "code",
   "execution_count": null,
   "metadata": {},
   "outputs": [],
   "source": [
    "\n",
    "print(x_train.describe(include='all').T)  # Detailed statistics for numeric and non-numeric columns"
   ]
  },
  {
   "cell_type": "code",
   "execution_count": null,
   "metadata": {},
   "outputs": [],
   "source": [
    "# Separate numeric columns\n",
    "numeric_cols = x_train.select_dtypes(include=['number']).columns\n",
    "\n",
    "# Separate categorical columns\n",
    "categorical_cols = x_train.select_dtypes(include=['object']).columns\n",
    "\n",
    "# Separate datetime columns\n",
    "datetime_cols = x_train.select_dtypes(include=['datetime']).columns\n",
    "\n",
    "print(\"Numeric Columns:\", numeric_cols)\n",
    "print(\"Categorical Columns:\", categorical_cols)\n",
    "print(\"Datetime Columns:\", datetime_cols)"
   ]
  },
  {
   "cell_type": "code",
   "execution_count": null,
   "metadata": {},
   "outputs": [],
   "source": [
    "# Show the count of each unique value in the column\n",
    "value_counts = x_train['piezo_groundwater_level_category'].value_counts()\n",
    "print(\"Value counts:\")\n",
    "print(value_counts)\n",
    "\n",
    "# Show the unique values in the column\n",
    "unique_values = x_train['piezo_groundwater_level_category'].unique()\n",
    "print(\"\\nUnique values:\")\n",
    "print(unique_values)"
   ]
  },
  {
   "cell_type": "code",
   "execution_count": null,
   "metadata": {},
   "outputs": [],
   "source": [
    "# Select columns that are not numeric\n",
    "non_numeric_columns = x_train.select_dtypes(exclude=['number'])\n",
    "\n",
    "# Display the names of the non-numeric columns\n",
    "print(non_numeric_columns.columns)\n",
    "print(\"number\",len(non_numeric_columns.columns))"
   ]
  },
  {
   "cell_type": "code",
   "execution_count": null,
   "metadata": {},
   "outputs": [],
   "source": [
    "import pandas as pd\n",
    "\n",
    "# Set pandas options to display all rows and columns\n",
    "pd.set_option('display.max_columns', None)  # Show all columns\n",
    "pd.set_option('display.max_rows', None)     # Show all rows\n",
    "pd.set_option('display.width', None)        # No line wrap\n",
    "pd.set_option('display.max_colwidth', None) # No truncation of columns\n",
    "\n",
    "\n",
    "# Calculate the percentage of NaN values in each column\n",
    "nan_percentage = x_train.isna().mean() * 100\n",
    "\n",
    "# Display the percentage of NaN values per column\n",
    "print(nan_percentage.sort_values(ascending=False))"
   ]
  },
  {
   "cell_type": "code",
   "execution_count": null,
   "metadata": {},
   "outputs": [],
   "source": [
    "# Show the count of each unique value in the column\n",
    "value_counts = x_train['piezo_station_update_date'].value_counts()\n",
    "print(\"Value counts:\")\n",
    "print(value_counts)\n",
    "\n",
    "# Show the unique values in the column\n",
    "unique_values = x_train['piezo_station_update_date'].unique()\n",
    "print(\"\\nUnique values:\")\n",
    "print(unique_values)"
   ]
  },
  {
   "cell_type": "code",
   "execution_count": null,
   "metadata": {},
   "outputs": [],
   "source": [
    "import seaborn as sns\n",
    "\n",
    "# Correlation heatmap\n",
    "plt.figure(figsize=(15, 10))\n",
    "sns.heatmap(x_train[numeric_cols].corr(), annot=False, cmap='coolwarm', linewidths=0.5)\n",
    "plt.title(\"Correlation Matrix\")\n",
    "plt.show()"
   ]
  },
  {
   "cell_type": "code",
   "execution_count": null,
   "metadata": {},
   "outputs": [],
   "source": [
    "# Filter correlations above 0.7 or below -0.7\n",
    "corr_matrix = x_train[numeric_cols].corr()\n",
    "high_corr = corr_matrix[(corr_matrix > 0.7) | (corr_matrix < -0.7)]\n",
    "\n",
    "plt.figure(figsize=(15, 10))\n",
    "sns.heatmap(high_corr, annot=True, cmap='coolwarm', linewidths=0.5, mask=high_corr.isnull())\n",
    "plt.title(\"High Correlation Matrix (>|0.7|)\")\n",
    "plt.show()"
   ]
  },
  {
   "cell_type": "code",
   "execution_count": null,
   "metadata": {},
   "outputs": [],
   "source": [
    "label_encoder = LabelEncoder()\n",
    "y_train = label_encoder.fit_transform(x_train['piezo_groundwater_level_category'])\n",
    "\n",
    "\n",
    "# Random Forest to estimate feature importance\n",
    "rf = RandomForestClassifier(random_state=42)\n",
    "rf.fit(x_train.dropna().select_dtypes(include=['number']), y_train)\n",
    "\n",
    "# Display feature importance\n",
    "feature_importance = pd.DataFrame({\n",
    "    'Feature': numeric_cols,\n",
    "    'Importance': rf.feature_importances_\n",
    "}).sort_values(by='Importance', ascending=False)\n",
    "\n",
    "print(feature_importance)"
   ]
  },
  {
   "cell_type": "code",
   "execution_count": null,
   "metadata": {},
   "outputs": [],
   "source": [
    "\n",
    "subset_columns = ['piezo_groundwater_level_category']  # replace with actual column names\n",
    "x_train[subset_columns].hist(bins=30, figsize=(15, 5))\n",
    "\n",
    "plt.tight_layout()\n",
    "plt.show()"
   ]
  },
  {
   "cell_type": "code",
   "execution_count": null,
   "metadata": {},
   "outputs": [],
   "source": [
    "# Boxplot to detect outliers\n",
    "plt.figure(figsize=(10, 8))\n",
    "sns.boxplot(data=x_train)\n",
    "plt.show()"
   ]
  }
 ],
 "metadata": {
  "kernelspec": {
   "display_name": "Hickathon5_env",
   "language": "python",
   "name": "python3"
  },
  "language_info": {
   "codemirror_mode": {
    "name": "ipython",
    "version": 3
   },
   "file_extension": ".py",
   "mimetype": "text/x-python",
   "name": "python",
   "nbconvert_exporter": "python",
   "pygments_lexer": "ipython3",
   "version": "3.13.0"
  }
 },
 "nbformat": 4,
 "nbformat_minor": 2
}
