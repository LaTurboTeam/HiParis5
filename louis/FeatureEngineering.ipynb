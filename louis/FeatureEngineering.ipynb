{
 "cells": [
  {
   "cell_type": "code",
   "execution_count": null,
   "metadata": {},
   "outputs": [],
   "source": [
    "import numpy as np\n",
    "import pandas as pd\n",
    "import re\n",
    "import copy as cp\n",
    "\n",
    "import warnings\n",
    "warnings.filterwarnings(\"ignore\")\n",
    "\n",
    "dataset = pd.read_csv(\"./data/X_train_Hi5.csv\")\n",
    "\n",
    "df = pd.DataFrame(dataset.sample(n=10_000, random_state=42))"
   ]
  },
  {
   "cell_type": "code",
   "execution_count": null,
   "metadata": {},
   "outputs": [],
   "source": [
    "print(df['piezo_station_pe_label'].nunique())\n",
    "df['piezo_station_pe_label'].isna().sum()\n",
    "\n"
   ]
  },
  {
   "cell_type": "code",
   "execution_count": null,
   "metadata": {},
   "outputs": [],
   "source": [
    "# On tolère 24% de nan dans les colonnes (elbow method)\n",
    "for proportion_nan_prct in [24]:\n",
    "    new_df = cp.deepcopy(df)\n",
    "    for col in new_df.columns:\n",
    "        if new_df[col].isnull().sum() * 100 / len(df) > proportion_nan_prct:\n",
    "            new_df.drop(col, axis=1, inplace=True)\n",
    "\n",
    "\n",
    "# Gérer les duplicatas\n",
    "new_df.drop_duplicates(inplace=True)\n",
    "#categorical_var = dataset.select_dtypes(include=[\"object\"]).columns.to_list()\n",
    "#new_df.drop(columns=categorical_var).columns.to_list()\n",
    "\n",
    "new_df.info()\n",
    "\n",
    "# Drop les features indépendantes qui sont identiques\n",
    "features_to_drop = [\"piezo_station_commune_code_insee\",\n",
    "                    \"piezo_station_pe_label\",\n",
    "                    \"piezo_station_bdlisa_codes\",\n",
    "                    \"piezo_station_bss_code\",\n",
    "                    \"piezo_station_commune_name\",\n",
    "                    \"piezo_station_bss_id\",\n",
    "                    \"piezo_bss_code\",\n",
    "                    \"piezo_station_update_date\",\n",
    "                    \"piezo_qualification\",\n",
    "                    \"piezo_continuity_code\",\n",
    "                    \"piezo_continuity_name\",\n",
    "                    \"piezo_producer_name\",\n",
    "                    \"piezo_measure_nature_name\",\n",
    "                    \"meteo_name\",\n",
    "                    \"hydro_station_code\",\n",
    "                    \"hydro_method_code\",\n",
    "                    \"hydro_method_label\",\n",
    "                    \"insee_med_living_level\",\n",
    "                    \"meteo_id\",\n",
    "                    \"hydro_qualification_label\",\n",
    "                    \"hydro_status_code\",\n",
    "                    \"piezo_station_department_name\"]\n",
    "\n",
    "\n"
   ]
  },
  {
   "cell_type": "code",
   "execution_count": null,
   "metadata": {},
   "outputs": [],
   "source": []
  }
 ],
 "metadata": {
  "kernelspec": {
   "display_name": "Python 3",
   "language": "python",
   "name": "python3"
  },
  "language_info": {
   "codemirror_mode": {
    "name": "ipython",
    "version": 3
   },
   "file_extension": ".py",
   "mimetype": "text/x-python",
   "name": "python",
   "nbconvert_exporter": "python",
   "pygments_lexer": "ipython3",
   "version": "3.10.13"
  }
 },
 "nbformat": 4,
 "nbformat_minor": 2
}
