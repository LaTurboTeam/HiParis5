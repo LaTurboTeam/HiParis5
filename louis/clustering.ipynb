{
 "cells": [
  {
   "cell_type": "code",
   "execution_count": null,
   "metadata": {},
   "outputs": [],
   "source": [
    "import numpy as np\n",
    "import pandas as pd\n",
    "import re\n",
    "\n",
    "import warnings\n",
    "warnings.filterwarnings(\"ignore\")\n",
    "\n",
    "df = pd.read_csv(\"./data/X_train_Hi5.csv\")\n",
    "dataset.drop_duplicates(inplace=True)\n",
    "\n",
    "from sklearn.cluster import KMeans\n",
    "import matplotlib.pyplot as plt\n",
    "from sklearn.metrics import silhouette_score\n",
    "\n",
    "# Extract coordinates\n",
    "coordinates = df[['piezo_station_longitude', 'piezo_station_latitude']].values\n"
   ]
  },
  {
   "cell_type": "code",
   "execution_count": null,
   "metadata": {},
   "outputs": [],
   "source": [
    "from sklearn.cluster import KMeans\n",
    "import matplotlib.pyplot as plt\n",
    "from sklearn.metrics import silhouette_score\n",
    "\n",
    "# Extract coordinates\n",
    "coordinates = df[['piezo_station_longitude', 'piezo_station_latitude']].values\n",
    "\n",
    "# Silhouette Method\n",
    "silhouette_scores = []\n",
    "k_values = range(2, 11)  # Test k values from 2 to 10 (k=1 is not valid for silhouette score)\n",
    "\n",
    "for k in k_values:\n",
    "    kmeans = KMeans(n_clusters=k, random_state=42)\n",
    "    labels = kmeans.fit_predict(coordinates)\n",
    "    score = silhouette_score(coordinates, labels)  # Compute silhouette score\n",
    "    silhouette_scores.append(score)\n",
    "\n",
    "# Plot the Silhouette Scores\n",
    "plt.figure(figsize=(10, 6))\n",
    "plt.plot(k_values, silhouette_scores, marker='o')\n",
    "plt.title('Silhouette Method for Optimal k')\n",
    "plt.xlabel('Number of Clusters (k)')\n",
    "plt.ylabel('Silhouette Score')\n",
    "plt.xticks(k_values)\n",
    "plt.grid(True)\n",
    "plt.show()\n"
   ]
  },
  {
   "cell_type": "code",
   "execution_count": null,
   "metadata": {},
   "outputs": [],
   "source": [
    "\n",
    "\n",
    "#Choose optimal k (based on the silhouette plot, let's assume it's 3 for this example)\n",
    "optimal_k = 4\n",
    "kmeans = KMeans(n_clusters=optimal_k, random_state=42)\n",
    "kmeans.fit(coordinates)\n",
    "df['cluster'] = kmeans.labels_\n",
    "\n",
    "# Plot the clusters\n",
    "plt.figure(figsize=(10, 6))\n",
    "for cluster in set(kmeans.labels_):\n",
    "    cluster_points = df[df['cluster'] == cluster]\n",
    "    plt.scatter(cluster_points['piezo_station_longitude'], cluster_points['piezo_station_latitude'], label=f'Cluster {cluster}')\n",
    "\n",
    "# Mark cluster centers\n",
    "centers = kmeans.cluster_centers_\n",
    "plt.scatter(centers[:, 1], centers[:, 0], c='red', marker='X', s=200, label='Centers')\n",
    "\n",
    "# Add labels and legend\n",
    "plt.title(f'KMeans Clustering with k={optimal_k}')\n",
    "plt.xlabel('Longitude')\n",
    "plt.ylabel('Latitude')\n",
    "plt.legend()\n",
    "plt.show()\n"
   ]
  },
  {
   "cell_type": "code",
   "execution_count": null,
   "metadata": {},
   "outputs": [],
   "source": []
  }
 ],
 "metadata": {
  "kernelspec": {
   "display_name": "Python 3",
   "language": "python",
   "name": "python3"
  },
  "language_info": {
   "codemirror_mode": {
    "name": "ipython",
    "version": 3
   },
   "file_extension": ".py",
   "mimetype": "text/x-python",
   "name": "python",
   "nbconvert_exporter": "python",
   "pygments_lexer": "ipython3",
   "version": "3.10.13"
  }
 },
 "nbformat": 4,
 "nbformat_minor": 2
}
