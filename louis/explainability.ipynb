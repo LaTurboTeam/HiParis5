{
 "cells": [
  {
   "cell_type": "code",
   "execution_count": null,
   "metadata": {},
   "outputs": [],
   "source": [
    "# plot importance of features in the prediction\n",
    "\n",
    "from shapash import SmartExplainer\n",
    "\n",
    "model = \n",
    "encoder = \n",
    "\n",
    "X_test = \n",
    "y_test = \n",
    "\n",
    "xpl = SmartExplainer(\n",
    "    model=model,\n",
    "    preprocessing=encoder,   # Optional: compile step can use inverse_transform method\n",
    "    features_dict=house_dict # optional parameter, specifies label for features name\n",
    ")\n",
    "\n",
    "xpl.compile(x=X_test,\n",
    "            y_target=y_test # Optional: allows to display True Values vs Predicted Values\n",
    "           )\n",
    "\n",
    "xpl.plot.features_importance()"
   ]
  },
  {
   "cell_type": "code",
   "execution_count": null,
   "metadata": {},
   "outputs": [],
   "source": [
    "# analyse how one feature affects prediction\n",
    "# use feature name, feature label or feature number to specify which feature you want to analyze\n",
    "feature = \"\"\n",
    "xpl.plot.contribution_plot(feature)\n",
    "\n"
   ]
  },
  {
   "cell_type": "code",
   "execution_count": null,
   "metadata": {},
   "outputs": [],
   "source": [
    "# export local explanation to df\n",
    "summary_df= xpl.to_pandas(\n",
    "    max_contrib=, # Number Max of features to show in summary\n",
    "    threshold=5000, # val min pour contribution\n",
    ")\n",
    "\n",
    "summary_df.head()"
   ]
  },
  {
   "cell_type": "code",
   "execution_count": null,
   "metadata": {},
   "outputs": [],
   "source": [
    "# We construct the groups as a dictionary of string keys and list of string values\n",
    "# All the features inside the list will belong to the same group\n",
    "features_groups = {\n",
    "    \"watertable\": [],\n",
    "    \"weather\": [\n",
    "        \n",
    "    ],\n",
    "    \"hydrology\": [\n",
    "        \n",
    "    ],\n",
    "    \"withdrawal\": [\n",
    "        \n",
    "    ],\n",
    "    \"economic data\": [],\n",
    "    \"distance\": []\n",
    "}\n",
    "\n",
    "#Optional : we can also give labels to groups names\n",
    "\n",
    "groups_labels = {\n",
    "    'watertable': 'Properties of watertables',\n",
    "    'weather' : 'Properties of weather',\n",
    "    'hydrology': 'Properties of hydrology',\n",
    "    'withdrawal': 'Properties of withdrawal',\n",
    "    'economic data': 'Properties of economic data',\n",
    "    'distance': 'Properties of distance'\n",
    "}\n",
    "house_dict.update(groups_labels)\n",
    "\n",
    "\n",
    "# optional parameter, specifies label for features and groups name\n",
    "xpl = SmartExplainer(\n",
    "    model=regressor,\n",
    "    preprocessing=encoder,\n",
    "    features_groups=features_groups,\n",
    "    features_dict=house_dict\n",
    ")\n",
    "\n",
    "xpl.compile(x=X_test,\n",
    "    y_target=y_test, # Optional: allows to display True Values vs Predicted Values\n",
    "    )\n",
    "\n",
    "\n"
   ]
  }
 ],
 "metadata": {
  "kernelspec": {
   "display_name": "Python 3",
   "language": "python",
   "name": "python3"
  },
  "language_info": {
   "codemirror_mode": {
    "name": "ipython",
    "version": 3
   },
   "file_extension": ".py",
   "mimetype": "text/x-python",
   "name": "python",
   "nbconvert_exporter": "python",
   "pygments_lexer": "ipython3",
   "version": "3.10.13"
  }
 },
 "nbformat": 4,
 "nbformat_minor": 2
}
