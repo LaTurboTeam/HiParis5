{
 "cells": [
  {
   "cell_type": "code",
   "execution_count": null,
   "metadata": {},
   "outputs": [],
   "source": [
    "# !pip install shap --quiet --upgrade\n",
    "\n",
    "import shap\n",
    "\n"
   ]
  },
  {
   "cell_type": "code",
   "execution_count": null,
   "metadata": {},
   "outputs": [],
   "source": [
    "from shapash import SmartExplainer\n",
    "\n",
    "xpl = SmartExplainer(\n",
    "    model=regressor,\n",
    "    preprocessing=encoder,   # Optional: compile step can use inverse_transform method\n",
    "    features_dict=house_dict # optional parameter, specifies label for features name\n",
    ")\n",
    "\n",
    "xpl.compile(x=Xtest,\n",
    "            y_target=ytest # Optional: allows to display True Values vs Predicted Values\n",
    "           )\n",
    "\n",
    "xpl.plot.features_importance()"
   ]
  },
  {
   "cell_type": "code",
   "execution_count": null,
   "metadata": {},
   "outputs": [],
   "source": [
    "# Compare Mean Absolute Contribution of a subset of rows between global MAC\n",
    "subset = [ 168, 54, 995, 799, 310, 322, 1374,\n",
    "          1106, 232, 645, 1170, 1229, 703, 66,\n",
    "          886, 160, 191, 1183, 1037, 991, 482,\n",
    "          725, 410, 59, 28, 719, 337, 36]\n",
    "xpl.plot.features_importance(selection=subset)"
   ]
  },
  {
   "cell_type": "code",
   "execution_count": null,
   "metadata": {},
   "outputs": [],
   "source": [
    "#\n",
    "xpl.filter(max_contrib=8,threshold=100)\n",
    "xpl.plot.local_plot(index=560)"
   ]
  },
  {
   "cell_type": "code",
   "execution_count": null,
   "metadata": {},
   "outputs": [],
   "source": [
    "# export local explanation to df\n",
    "summary_df= xpl.to_pandas(\n",
    "    max_contrib=3, # Number Max of features to show in summary\n",
    "    threshold=5000,\n",
    ")\n",
    "\n",
    "summary_df.head()\n",
    "\n"
   ]
  },
  {
   "cell_type": "code",
   "execution_count": null,
   "metadata": {},
   "outputs": [],
   "source": [
    "# analyse how one feature affects prediction\n",
    "# use feature name, feature label or feature number to specify which feature you want to analyze\n",
    "xpl.plot.contribution_plot(\"\")"
   ]
  },
  {
   "cell_type": "code",
   "execution_count": null,
   "metadata": {},
   "outputs": [],
   "source": []
  }
 ],
 "metadata": {
  "kernelspec": {
   "display_name": "Python 3",
   "language": "python",
   "name": "python3"
  },
  "language_info": {
   "codemirror_mode": {
    "name": "ipython",
    "version": 3
   },
   "file_extension": ".py",
   "mimetype": "text/x-python",
   "name": "python",
   "nbconvert_exporter": "python",
   "pygments_lexer": "ipython3",
   "version": "3.10.13"
  }
 },
 "nbformat": 4,
 "nbformat_minor": 2
}
